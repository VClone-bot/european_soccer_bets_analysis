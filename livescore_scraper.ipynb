{
 "cells": [
  {
   "cell_type": "code",
   "execution_count": 1,
   "metadata": {},
   "outputs": [],
   "source": [
    "import os\n",
    "os.environ[\"LANG\"] = \"en_US.UTF-8\"\n",
    "\n",
    "import requests\n",
    "import pandas as pd\n",
    "import bs4 as bs\n",
    "from selenium import webdriver\n",
    "import datetime"
   ]
  },
  {
   "cell_type": "code",
   "execution_count": 2,
   "metadata": {},
   "outputs": [],
   "source": [
    "class livescore_scraper:    \n",
    "    def __init__(self): ## CTOR\n",
    "        ## The browser driver which will be used to process the request\n",
    "        self._browser = webdriver.Chrome('./chromedriver.exe')\n",
    "    \n",
    "    def scrape(start_date, end_date, country='france'):\n",
    "        '''\n",
    "        Scrapes the website www.livescore.com for soccer scores\n",
    "        @param start_date, end_date the date interval which scores we want\n",
    "        @param country the country in which we want to get the scores\n",
    "        @return a DataFrame containing every match found in the given interval\n",
    "        '''\n",
    "        matchs = []\n",
    "        ## Convert the given dates to datetime\n",
    "        begin = datetime.datetime.strptime(start_date, \"%Y-%m-%d\")\n",
    "        end = datetime.datetime.strptime(end_date, \"%Y-%m-%d\")\n",
    "        \n",
    "        ## Compute the number of days to process\n",
    "        nb_days = (end - begin).days\n",
    "        \n",
    "        ## Process those days\n",
    "        for d in range(nb_days+1):\n",
    "            today = (begin + datetime.timedelta(d))\n",
    "            ## First build the url we want to visit\n",
    "            url = 'https://www.livescore.com/en/football/{}/ligue-1/#/{}'.format(country, today.strftime(\"%Y%m%d\"))\n",
    "\n",
    "            ## Get the required data from the url\n",
    "            self._browser.get(url)\n",
    "            sauce = self._browser.page_source\n",
    "\n",
    "            ## Analyze it with BeautifulSoup\n",
    "            soup = bs.BeautifulSoup(sauce, 'lxml')\n",
    "\n",
    "            ## These are the fields we are looking for on the website\n",
    "            home_class = \"FootballMatchRow_teamName__28Hxv\"\n",
    "            home_score_class = \"FootballMatchRow_score__home__2-xt3\"\n",
    "\n",
    "            away_class = \"FootballMatchRow_teamName__28Hxv\"\n",
    "            away_score_class = 'FootballMatchRow_score__away__30bhM'\n",
    "\n",
    "            home_teams = soup.find_all('span', {'class' : home_class})[::2]\n",
    "            home_scores = soup.find_all('span', {'class' : home_score_class})\n",
    "\n",
    "            away_teams = soup.find_all('span', {'class' : away_class})[1::2]\n",
    "            away_scores = soup.find_all('span', {'class' : away_score_class})\n",
    "\n",
    "\n",
    "            ## Build a list containing all of our data\n",
    "            for i in range(len(home_teams)):\n",
    "                teams = '{} - {}'.format(home_teams[i].text, away_teams[i].text)\n",
    "                home_team = home_teams[i].text\n",
    "                away_team = away_teams[i].text\n",
    "                home_score = home_scores[i].text\n",
    "                away_score = away_scores[i].text\n",
    "                score = '{} - {}'.format(home_scores[i].text, away_scores[i].text)\n",
    "                if home_score == '?':\n",
    "                    matchs.append((today, home_team, 0, away_team, 0, False))\n",
    "                else:\n",
    "                    matchs.append((today, home_team, int(home_score), away_team, int(away_score), True))\n",
    "                    \n",
    "        ## Build and return the corresponding DataFrame\n",
    "        return pd.DataFrame(matchs, columns=['date', 'home_team', 'home_score', 'away_team', 'away_score', 'played'])"
   ]
  },
  {
   "cell_type": "code",
   "execution_count": null,
   "metadata": {},
   "outputs": [],
   "source": []
  }
 ],
 "metadata": {
  "kernelspec": {
   "display_name": "Python 3",
   "language": "python",
   "name": "python3"
  },
  "language_info": {
   "codemirror_mode": {
    "name": "ipython",
    "version": 3
   },
   "file_extension": ".py",
   "mimetype": "text/x-python",
   "name": "python",
   "nbconvert_exporter": "python",
   "pygments_lexer": "ipython3",
   "version": "3.9.0"
  }
 },
 "nbformat": 4,
 "nbformat_minor": 4
}
