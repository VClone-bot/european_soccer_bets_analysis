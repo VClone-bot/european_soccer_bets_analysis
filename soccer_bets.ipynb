{
 "cells": [
  {
   "cell_type": "code",
   "execution_count": 1,
   "metadata": {},
   "outputs": [],
   "source": [
    "import os\n",
    "os.environ[\"LANG\"] = \"en_US.UTF-8\""
   ]
  },
  {
   "cell_type": "code",
   "execution_count": 2,
   "metadata": {},
   "outputs": [],
   "source": [
    "import requests\n",
    "import pandas as pd\n",
    "import numpy as np\n",
    "import seaborn as sns\n",
    "import bs4 as bs\n",
    "from selenium import webdriver"
   ]
  },
  {
   "cell_type": "code",
   "execution_count": 3,
   "metadata": {},
   "outputs": [],
   "source": [
    "import re\n",
    "\n",
    "url = 'https://www.livescore.com/en/football/france/ligue-1/#/20210417'\n",
    "\n",
    "browser = webdriver.Chrome('./chromedriver.exe')\n",
    "browser.get(url)\n",
    "sauce = browser.page_source\n",
    "browser.quit()\n",
    "soup = bs.BeautifulSoup(sauce,'lxml')"
   ]
  },
  {
   "cell_type": "code",
   "execution_count": 4,
   "metadata": {},
   "outputs": [],
   "source": [
    "home_class = \"FootballMatchRow_teamName__28Hxv\"\n",
    "home_score_class = \"FootballMatchRow_score__home__2-xt3\"\n",
    "\n",
    "away_class = \"FootballMatchRow_teamName__28Hxv\"\n",
    "away_score_class = 'FootballMatchRow_score__away__30bhM'\n",
    "\n",
    "home_teams = soup.find_all('span', {'class' : home_class})[::2]\n",
    "home_scores = soup.find_all('span', {'class' : home_score_class})\n",
    "\n",
    "away_teams = soup.find_all('span', {'class' : away_class})[1::2]\n",
    "away_scores = soup.find_all('span', {'class' : away_score_class})\n",
    "\n",
    "matchs = []\n",
    "for i in range(len(home_teams)):\n",
    "    teams = '{} - {}'.format(home_teams[i].text, away_teams[i].text)\n",
    "    home_team = home_teams[i].text\n",
    "    away_team = away_teams[i].text\n",
    "    home_score = home_scores[i].text\n",
    "    away_score = away_scores[i].text\n",
    "    score = '{} - {}'.format(home_scores[i].text, away_scores[i].text)\n",
    "    if home_score == '?':\n",
    "        matchs.append((home_team, 0, away_team, 0, False))\n",
    "    else:\n",
    "        matchs.append((home_team, int(home_score), away_team, int(away_score), True))"
   ]
  },
  {
   "cell_type": "code",
   "execution_count": 5,
   "metadata": {},
   "outputs": [],
   "source": [
    "df = pd.DataFrame(matchs, columns=['home_team', 'home_score', 'away_team', 'away_score', 'played'])"
   ]
  },
  {
   "cell_type": "code",
   "execution_count": 6,
   "metadata": {},
   "outputs": [
    {
     "data": {
      "text/html": [
       "<div>\n",
       "<style scoped>\n",
       "    .dataframe tbody tr th:only-of-type {\n",
       "        vertical-align: middle;\n",
       "    }\n",
       "\n",
       "    .dataframe tbody tr th {\n",
       "        vertical-align: top;\n",
       "    }\n",
       "\n",
       "    .dataframe thead th {\n",
       "        text-align: right;\n",
       "    }\n",
       "</style>\n",
       "<table border=\"1\" class=\"dataframe\">\n",
       "  <thead>\n",
       "    <tr style=\"text-align: right;\">\n",
       "      <th></th>\n",
       "      <th>home_team</th>\n",
       "      <th>home_score</th>\n",
       "      <th>away_team</th>\n",
       "      <th>away_score</th>\n",
       "      <th>played</th>\n",
       "    </tr>\n",
       "  </thead>\n",
       "  <tbody>\n",
       "    <tr>\n",
       "      <th>0</th>\n",
       "      <td>Angers</td>\n",
       "      <td>0</td>\n",
       "      <td>Rennes</td>\n",
       "      <td>3</td>\n",
       "      <td>True</td>\n",
       "    </tr>\n",
       "    <tr>\n",
       "      <th>1</th>\n",
       "      <td>Marseille</td>\n",
       "      <td>3</td>\n",
       "      <td>Lorient</td>\n",
       "      <td>2</td>\n",
       "      <td>True</td>\n",
       "    </tr>\n",
       "  </tbody>\n",
       "</table>\n",
       "</div>"
      ],
      "text/plain": [
       "   home_team  home_score away_team  away_score  played\n",
       "0     Angers           0    Rennes           3    True\n",
       "1  Marseille           3   Lorient           2    True"
      ]
     },
     "execution_count": 6,
     "metadata": {},
     "output_type": "execute_result"
    }
   ],
   "source": [
    "df"
   ]
  },
  {
   "cell_type": "code",
   "execution_count": null,
   "metadata": {},
   "outputs": [],
   "source": []
  }
 ],
 "metadata": {
  "kernelspec": {
   "display_name": "Python 3",
   "language": "python",
   "name": "python3"
  },
  "language_info": {
   "codemirror_mode": {
    "name": "ipython",
    "version": 3
   },
   "file_extension": ".py",
   "mimetype": "text/x-python",
   "name": "python",
   "nbconvert_exporter": "python",
   "pygments_lexer": "ipython3",
   "version": "3.9.0"
  }
 },
 "nbformat": 4,
 "nbformat_minor": 4
}
